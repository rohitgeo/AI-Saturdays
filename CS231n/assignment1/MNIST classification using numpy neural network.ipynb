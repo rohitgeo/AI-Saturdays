{
 "cells": [
  {
   "cell_type": "markdown",
   "metadata": {},
   "source": [
    "### Load MNIST data"
   ]
  },
  {
   "cell_type": "code",
   "execution_count": 1,
   "metadata": {
    "collapsed": true
   },
   "outputs": [],
   "source": [
    "import numpy as np\n",
    "\n",
    "from sklearn.utils import shuffle\n",
    "from sklearn.datasets import fetch_mldata"
   ]
  },
  {
   "cell_type": "code",
   "execution_count": 2,
   "metadata": {
    "collapsed": true
   },
   "outputs": [],
   "source": [
    "mnist = fetch_mldata('MNIST original', data_home='.')"
   ]
  },
  {
   "cell_type": "markdown",
   "metadata": {},
   "source": [
    "The dataset contains 70,000 images of 28x28=784 pixels each."
   ]
  },
  {
   "cell_type": "code",
   "execution_count": 3,
   "metadata": {},
   "outputs": [
    {
     "data": {
      "text/plain": [
       "(70000, 784)"
      ]
     },
     "execution_count": 3,
     "metadata": {},
     "output_type": "execute_result"
    }
   ],
   "source": [
    "mnist.data.shape"
   ]
  },
  {
   "cell_type": "code",
   "execution_count": 4,
   "metadata": {},
   "outputs": [
    {
     "data": {
      "text/plain": [
       "(70000,)"
      ]
     },
     "execution_count": 4,
     "metadata": {},
     "output_type": "execute_result"
    }
   ],
   "source": [
    "mnist.target.shape"
   ]
  },
  {
   "cell_type": "markdown",
   "metadata": {},
   "source": [
    "### Data exploration"
   ]
  },
  {
   "cell_type": "code",
   "execution_count": 5,
   "metadata": {},
   "outputs": [
    {
     "data": {
      "text/plain": [
       "array([0., 1., 2., 3., 4., 5., 6., 7., 8., 9.])"
      ]
     },
     "execution_count": 5,
     "metadata": {},
     "output_type": "execute_result"
    }
   ],
   "source": [
    "np.unique(mnist.target)"
   ]
  },
  {
   "cell_type": "code",
   "execution_count": 6,
   "metadata": {
    "scrolled": true
   },
   "outputs": [
    {
     "data": {
      "text/plain": [
       "(784,)"
      ]
     },
     "execution_count": 6,
     "metadata": {},
     "output_type": "execute_result"
    }
   ],
   "source": [
    "mnist.data[0].shape"
   ]
  },
  {
   "cell_type": "code",
   "execution_count": 7,
   "metadata": {},
   "outputs": [
    {
     "data": {
      "text/plain": [
       "0.0"
      ]
     },
     "execution_count": 7,
     "metadata": {},
     "output_type": "execute_result"
    }
   ],
   "source": [
    "mnist.target[0]"
   ]
  },
  {
   "cell_type": "markdown",
   "metadata": {},
   "source": [
    "### Visualization"
   ]
  },
  {
   "cell_type": "code",
   "execution_count": 14,
   "metadata": {},
   "outputs": [
    {
     "name": "stdout",
     "output_type": "stream",
     "text": [
      " 0   0   0   0   0   0   0   0   0   0   0   0   0   0   0   0   0   0   0   0   0   0   0   0   0   0   0   0  \n",
      " 0   0   0   0   0   0   0   0   0   0   0   0   0   0   0   0   0   0   0   0   0   0   0   0   0   0   0   0  \n",
      " 0   0   0   0   0   0   0   0   0   0   0   0   0   0   0  163 203  0   0   0   0   0   0   0   0   0   0   0  \n",
      " 0   0   0   0   0   0   0   0   0   0   0   0   0   0  163 243 203  0   0   0   0   0   0   0   0   0   0   0  \n",
      " 0   0   0   0   0   0   0   0   0   0   0   0   0   82 254 253 203  0   0   0   0   0   0   0   0   0   0   0  \n",
      " 0   0   0   0   0   0   0   0   0   0   0   0   0  203 253 252  81  0   0   0   0   0   0   0   0   0   0   0  \n",
      " 0   0   0   0   0   0   0   0   0   0   0   0  132 253 224  81  0   0   0   0   0   0   0   0   0   0   0   0  \n",
      " 0   0   0   0   0   0   0   0   0   0   0   0  253 252 102  0   0   0   0   0   0   0   0   0   0   0   0   0  \n",
      " 0   0   0   0   0   0   0   0   0   0   0  163 254 172  0   0   0   0   0   0   0   0   0   0   0   0   0   0  \n",
      " 0   0   0   0   0   0   0   0   0   0   41 243 253  50  0   0   0   0   0   0   0   0   0   0   0   0   0   0  \n",
      " 0   0   0   0   0   0   0   0   0   0   52 253 254  50  0   0   0   0   0   0   0   0   0   0   0   0   0   0  \n",
      " 0   0   0   0   0   0   0   0   0   0  173 252 233  30  0   0   0   0   0   0   0   0   0   0   0   0   0   0  \n",
      " 0   0   0   0   0   0   0   0   0   62 254 253  82  0   0   21  51  51 152  71  21  0   0   0   0   0   0   0  \n",
      " 0   0   0   0   0   0   0   0   0  102 253 252 102 102 123 223 253 252 253 252 223  81  0   0   0   0   0   0  \n",
      " 0   0   0   0   0   0   0   0   0  203 254 233 234 253 254 253 203 243 254 253 254 213  21  0   0   0   0   0  \n",
      " 0   0   0   0   0   0   0   0   41 243 253 151  51 151 151  70  0   40 151 151 253 252 102  0   0   0   0   0  \n",
      " 0   0   0   0   0   0   0   0   52 253 254  50  0   0   0   0   0   0   0   0  132 253 163  0   0   0   0   0  \n",
      " 0   0   0   0   0   0   0   0   51 252 253  50  0   0   0   0   0   0   0   0   92 252 162  0   0   0   0   0  \n",
      " 0   0   0   0   0   0   0   0   52 253 255 131  0   0   0   0   0   0   0   82 254 233  82  0   0   0   0   0  \n",
      " 0   0   0   0   0   0   0   0   31 232 253 252 183 102 102 102 102 142 203 243 253 151  0   0   0   0   0   0  \n",
      " 0   0   0   0   0   0   0   0   0  123 255 253 254 253 254 253 254 253 254 253 142  20  0   0   0   0   0   0  \n",
      " 0   0   0   0   0   0   0   0   0   0   71 192 253 252 253 252 233 151 131  50  0   0   0   0   0   0   0   0  \n",
      " 0   0   0   0   0   0   0   0   0   0   0   0   0   0   0   0   0   0   0   0   0   0   0   0   0   0   0   0  \n",
      " 0   0   0   0   0   0   0   0   0   0   0   0   0   0   0   0   0   0   0   0   0   0   0   0   0   0   0   0  \n",
      " 0   0   0   0   0   0   0   0   0   0   0   0   0   0   0   0   0   0   0   0   0   0   0   0   0   0   0   0  \n",
      " 0   0   0   0   0   0   0   0   0   0   0   0   0   0   0   0   0   0   0   0   0   0   0   0   0   0   0   0  \n",
      " 0   0   0   0   0   0   0   0   0   0   0   0   0   0   0   0   0   0   0   0   0   0   0   0   0   0   0   0  \n",
      " 0   0   0   0   0   0   0   0   0   0   0   0   0   0   0   0   0   0   0   0   0   0   0   0   0   0   0   0  \n"
     ]
    }
   ],
   "source": [
    "# visualize using some ascii art\n",
    "import random\n",
    "\n",
    "index = random.randint(0,len(mnist.data)-1) # visualize a random number from the MNIST data\n",
    "\n",
    "pixels = mnist.data[index].reshape((28, 28))\n",
    "\n",
    "for row in pixels:\n",
    "    [print('{:^4}'.format(pixel), end='') for pixel in row]\n",
    "    print()"
   ]
  },
  {
   "cell_type": "code",
   "execution_count": 15,
   "metadata": {
    "collapsed": true
   },
   "outputs": [],
   "source": [
    "import random\n",
    "import matplotlib.pyplot as plt\n",
    "\n",
    "%matplotlib inline"
   ]
  },
  {
   "cell_type": "code",
   "execution_count": 16,
   "metadata": {},
   "outputs": [
    {
     "data": {
      "image/png": "[encoded data removed]",
      "text/plain": [
       "<matplotlib.figure.Figure at 0x2b37368cf28>"
      ]
     },
     "metadata": {},
     "output_type": "display_data"
    }
   ],
   "source": [
    "pixels = np.array(mnist.data[index], dtype='uint8')\n",
    "\n",
    "# Reshape the array into 28 x 28 array (2-dimensional array)\n",
    "pixels = pixels.reshape((28, 28))\n",
    "\n",
    "# Plot\n",
    "plt.title('Label is {label}'.format(label=mnist.target[index]))\n",
    "plt.imshow(pixels, cmap='gray')\n",
    "plt.show()"
   ]
  },
  {
   "cell_type": "markdown",
   "metadata": {},
   "source": [
    "### Preprocessing"
   ]
  },
  {
   "cell_type": "code",
   "execution_count": 17,
   "metadata": {
    "collapsed": true
   },
   "outputs": [],
   "source": [
    "mnist.data = mnist.data/255.0*2 - 1"
   ]
  },
  {
   "cell_type": "code",
   "execution_count": 18,
   "metadata": {
    "collapsed": true
   },
   "outputs": [],
   "source": [
    "x_train = mnist.data[:60000]\n",
    "y_train = mnist.target[:60000]\n",
    "\n",
    "x_test  = mnist.data[60000:]\n",
    "y_test  = mnist.target[60000:]"
   ]
  },
  {
   "cell_type": "code",
   "execution_count": 19,
   "metadata": {
    "collapsed": true
   },
   "outputs": [],
   "source": [
    "X = x_train\n",
    "y = y_train.astype(np.uint8)\n",
    "\n",
    "Xt = x_test\n",
    "yt = y_test.astype(np.uint8)"
   ]
  },
  {
   "cell_type": "code",
   "execution_count": 20,
   "metadata": {
    "collapsed": true
   },
   "outputs": [],
   "source": [
    "def unison_shuffled_copies(a, b):\n",
    "    assert len(a) == len(b)\n",
    "    p = np.random.permutation(len(a))\n",
    "    return a[p], b[p]"
   ]
  },
  {
   "cell_type": "code",
   "execution_count": 21,
   "metadata": {
    "collapsed": true
   },
   "outputs": [],
   "source": [
    "X, y = unison_shuffled_copies(X, y)"
   ]
  },
  {
   "cell_type": "markdown",
   "metadata": {},
   "source": [
    "### Two layer neural network in numpy"
   ]
  },
  {
   "cell_type": "code",
   "execution_count": 30,
   "metadata": {},
   "outputs": [
    {
     "name": "stdout",
     "output_type": "stream",
     "text": [
      "iteration 0: loss 2.322308\n",
      "iteration 100: loss 1.984647\n",
      "iteration 200: loss 1.431346\n",
      "iteration 300: loss 1.062887\n",
      "iteration 400: loss 0.690352\n",
      "iteration 500: loss 0.558953\n",
      "iteration 600: loss 0.535156\n",
      "iteration 700: loss 0.463688\n",
      "iteration 800: loss 0.447985\n",
      "iteration 900: loss 0.403202\n",
      "iteration 1000: loss 0.585579\n",
      "iteration 1100: loss 0.446848\n",
      "iteration 1200: loss 0.326479\n",
      "iteration 1300: loss 0.493121\n",
      "iteration 1400: loss 0.445217\n",
      "iteration 1500: loss 0.432230\n",
      "iteration 1600: loss 0.346519\n",
      "iteration 1700: loss 0.485739\n",
      "iteration 1800: loss 0.383756\n",
      "iteration 1900: loss 0.386374\n",
      "iteration 2000: loss 0.237091\n",
      "iteration 2100: loss 0.423637\n",
      "iteration 2200: loss 0.315242\n",
      "iteration 2300: loss 0.369491\n",
      "iteration 2400: loss 0.484731\n",
      "iteration 2500: loss 0.311369\n",
      "iteration 2600: loss 0.259375\n",
      "iteration 2700: loss 0.498405\n",
      "iteration 2800: loss 0.341113\n",
      "iteration 2900: loss 0.442184\n",
      "iteration 3000: loss 0.333467\n",
      "iteration 3100: loss 0.359184\n",
      "iteration 3200: loss 0.311288\n",
      "iteration 3300: loss 0.305589\n",
      "iteration 3400: loss 0.410398\n",
      "iteration 3500: loss 0.275164\n",
      "iteration 3600: loss 0.367684\n",
      "iteration 3700: loss 0.395425\n",
      "iteration 3800: loss 0.381667\n",
      "iteration 3900: loss 0.409154\n",
      "iteration 4000: loss 0.309926\n",
      "iteration 4100: loss 0.395536\n",
      "iteration 4200: loss 0.350483\n",
      "iteration 4300: loss 0.354743\n",
      "iteration 4400: loss 0.353875\n",
      "iteration 4500: loss 0.224368\n",
      "iteration 4600: loss 0.327699\n",
      "iteration 4700: loss 0.327069\n",
      "iteration 4800: loss 0.255297\n",
      "iteration 4900: loss 0.218054\n",
      "iteration 5000: loss 0.379810\n"
     ]
    }
   ],
   "source": [
    "h = 512 # size of hidden layer\n",
    "W = 0.01 * np.random.randn(X.shape[1],h)\n",
    "b = np.zeros((1,h))\n",
    "K = 10 # number of classes\n",
    "W2 = 0.01 * np.random.randn(h,K)\n",
    "b2 = np.zeros((1,K))\n",
    "# some hyperparameters\n",
    "step_size = 0.01 # 1e-0\n",
    "reg = 1e-3 # regularization strength\n",
    "\n",
    "batch_size=128\n",
    "\n",
    "# gradient descent loop\n",
    "num_examples = X.shape[0]\n",
    "for i in range(5100):\n",
    "          \n",
    "    num_train = X.shape[0]\n",
    "    iterations_per_epoch = max(num_train / batch_size, 1)\n",
    "    \n",
    "    batch_idxes = np.random.choice(num_train, batch_size, replace=True)\n",
    "    X_batch = X[batch_idxes, :]\n",
    "    y_batch = y[batch_idxes]\n",
    "    \n",
    "    # evaluate class scores, [N x K]\n",
    "    hidden_layer = np.maximum(0, np.dot(X_batch, W) + b) # note, ReLU activation\n",
    "    scores = np.dot(hidden_layer, W2) + b2\n",
    "\n",
    "    # compute the class probabilities\n",
    "    exp_scores = np.exp(scores)\n",
    "    probs = exp_scores / np.sum(exp_scores, axis=1, keepdims=True) # [N x K]\n",
    "\n",
    "    # compute the loss: average cross-entropy loss and regularization\n",
    "    corect_logprobs = -np.log(probs[range(batch_size),y_batch])\n",
    "    data_loss = np.sum(corect_logprobs)/batch_size\n",
    "    reg_loss = 0.5*reg*np.sum(W*W) + 0.5*reg*np.sum(W2*W2)\n",
    "    loss = data_loss + reg_loss\n",
    "    if i % 100 == 0:\n",
    "        print(\"iteration %d: loss %f\" % (i, loss))\n",
    "\n",
    "    # compute the gradient on scores\n",
    "    dscores = probs\n",
    "    dscores[range(batch_size),y_batch] -= 1\n",
    "    dscores /= batch_size\n",
    "\n",
    "    # backpropate the gradient to the parameters\n",
    "    # first backprop into parameters W2 and b2\n",
    "    dW2 = np.dot(hidden_layer.T, dscores)\n",
    "    db2 = np.sum(dscores, axis=0, keepdims=True)\n",
    "    # next backprop into hidden layer\n",
    "    dhidden = np.dot(dscores, W2.T)\n",
    "    # backprop the ReLU non-linearity\n",
    "    dhidden[hidden_layer <= 0] = 0\n",
    "    # finally into W,b\n",
    "    dW = np.dot(X_batch.T, dhidden)\n",
    "    db = np.sum(dhidden, axis=0, keepdims=True)\n",
    "\n",
    "    # add regularization gradient contribution\n",
    "    dW2 += reg * W2\n",
    "    dW += reg * W\n",
    "\n",
    "    # perform a parameter update\n",
    "    W += -step_size * dW\n",
    "    b += -step_size * db\n",
    "    W2 += -step_size * dW2\n",
    "    b2 += -step_size * db2"
   ]
  },
  {
   "cell_type": "code",
   "execution_count": 31,
   "metadata": {},
   "outputs": [
    {
     "name": "stdout",
     "output_type": "stream",
     "text": [
      "training accuracy: 0.92\n"
     ]
    }
   ],
   "source": [
    "# evaluate training set accuracy\n",
    "hidden_layer = np.maximum(0, np.dot(X, W) + b)\n",
    "scores = np.dot(hidden_layer, W2) + b2\n",
    "predicted_class = np.argmax(scores, axis=1)\n",
    "print('training accuracy: %.2f' % (np.mean(predicted_class == y)))"
   ]
  },
  {
   "cell_type": "markdown",
   "metadata": {},
   "source": [
    "### Test accuracy"
   ]
  },
  {
   "cell_type": "code",
   "execution_count": 32,
   "metadata": {},
   "outputs": [
    {
     "name": "stdout",
     "output_type": "stream",
     "text": [
      "test accuracy: 0.93\n"
     ]
    }
   ],
   "source": [
    "hidden_layer = np.maximum(0, np.dot(Xt, W) + b)\n",
    "scores = np.dot(hidden_layer, W2) + b2\n",
    "predicted_class = np.argmax(scores, axis=1)\n",
    "print('test accuracy: %.2f' % (np.mean(predicted_class == yt)))"
   ]
  },
  {
   "cell_type": "markdown",
   "metadata": {},
   "source": [
    "### Test some random digits"
   ]
  },
  {
   "cell_type": "code",
   "execution_count": 33,
   "metadata": {},
   "outputs": [
    {
     "data": {
      "image/png": "[encoded data removed]",
      "text/plain": [
       "<matplotlib.figure.Figure at 0x2b3736d8898>"
      ]
     },
     "metadata": {},
     "output_type": "display_data"
    }
   ],
   "source": [
    "batch_size \n",
    "batch_idxes = np.random.choice(len(Xt), 10, replace=True)\n",
    "X_batch = Xt[batch_idxes, :]\n",
    "    \n",
    "pixels = X_batch # np.array(mnist.data[index], dtype='uint8')\n",
    "\n",
    "# Reshape the array into 28 x 28 array (2-dimensional array)\n",
    "pixels = pixels.reshape((280,28))\n",
    "\n",
    "# Plot\n",
    "plt.imshow(pixels, cmap='gray')\n",
    "plt.show()"
   ]
  },
  {
   "cell_type": "markdown",
   "metadata": {},
   "source": [
    "Let's test what the classifier classifies the above digits as:"
   ]
  },
  {
   "cell_type": "code",
   "execution_count": 34,
   "metadata": {},
   "outputs": [
    {
     "data": {
      "text/plain": [
       "array([8, 1, 8, 4, 5, 6, 4, 6, 7, 0], dtype=int64)"
      ]
     },
     "execution_count": 34,
     "metadata": {},
     "output_type": "execute_result"
    }
   ],
   "source": [
    "hidden_layer = np.maximum(0, np.dot(X_batch, W) + b)\n",
    "scores = np.dot(hidden_layer, W2) + b2\n",
    "predicted_class = np.argmax(scores, axis=1)\n",
    "predicted_class"
   ]
  },
  {
   "cell_type": "markdown",
   "metadata": {
    "collapsed": true
   },
   "source": [
    "# Using Keras with Tensorflow backend"
   ]
  },
  {
   "cell_type": "code",
   "execution_count": 35,
   "metadata": {},
   "outputs": [
    {
     "name": "stderr",
     "output_type": "stream",
     "text": [
      "C:\\Users\\rohit\\Anaconda3\\lib\\site-packages\\h5py\\__init__.py:34: FutureWarning: Conversion of the second argument of issubdtype from `float` to `np.floating` is deprecated. In future, it will be treated as `np.float64 == np.dtype(float).type`.\n",
      "  from ._conv import register_converters as _register_converters\n",
      "Using TensorFlow backend.\n"
     ]
    }
   ],
   "source": [
    "import keras\n",
    "from keras import models\n",
    "from keras import layers"
   ]
  },
  {
   "cell_type": "code",
   "execution_count": 36,
   "metadata": {
    "collapsed": true
   },
   "outputs": [],
   "source": [
    "network = models.Sequential()\n",
    "network.add(layers.Dense(512, activation='relu', input_shape=(28*28,)))\n",
    "network.add(layers.Dense(10, activation='softmax'))"
   ]
  },
  {
   "cell_type": "code",
   "execution_count": 37,
   "metadata": {},
   "outputs": [],
   "source": [
    "sgd = keras.optimizers.SGD(lr=0.01, momentum=0.0, decay=0.0, nesterov=False)"
   ]
  },
  {
   "cell_type": "code",
   "execution_count": 38,
   "metadata": {
    "collapsed": true
   },
   "outputs": [],
   "source": [
    "network.compile(optimizer=sgd, loss='categorical_crossentropy', metrics=['accuracy'])"
   ]
  },
  {
   "cell_type": "code",
   "execution_count": 39,
   "metadata": {
    "collapsed": true
   },
   "outputs": [],
   "source": [
    "from keras.utils import to_categorical\n",
    "\n",
    "train_labels = to_categorical(y)\n",
    "test_labels = to_categorical(yt)"
   ]
  },
  {
   "cell_type": "code",
   "execution_count": 40,
   "metadata": {},
   "outputs": [
    {
     "name": "stdout",
     "output_type": "stream",
     "text": [
      "Epoch 1/5\n",
      "60000/60000 [==============================] - 7s 115us/step - loss: 0.6495 - acc: 0.8262\n",
      "Epoch 2/5\n",
      "60000/60000 [==============================] - 7s 109us/step - loss: 0.3669 - acc: 0.8977\n",
      "Epoch 3/5\n",
      "60000/60000 [==============================] - 7s 114us/step - loss: 0.3209 - acc: 0.9092\n",
      "Epoch 4/5\n",
      "60000/60000 [==============================] - 7s 117us/step - loss: 0.2952 - acc: 0.9162\n",
      "Epoch 5/5\n",
      "60000/60000 [==============================] - 8s 127us/step - loss: 0.2761 - acc: 0.9223\n"
     ]
    },
    {
     "data": {
      "text/plain": [
       "<keras.callbacks.History at 0x2b333ea4048>"
      ]
     },
     "execution_count": 40,
     "metadata": {},
     "output_type": "execute_result"
    }
   ],
   "source": [
    "network.fit(X, train_labels, epochs=5, batch_size=128)"
   ]
  },
  {
   "cell_type": "code",
   "execution_count": 41,
   "metadata": {},
   "outputs": [
    {
     "name": "stdout",
     "output_type": "stream",
     "text": [
      "10000/10000 [==============================] - 1s 136us/step\n",
      "test_acc: 0.9268\n"
     ]
    }
   ],
   "source": [
    "test_loss, test_acc = network.evaluate(Xt, test_labels)\n",
    "print('test_acc:', test_acc)"
   ]
  },
  {
   "cell_type": "markdown",
   "metadata": {},
   "source": [
    "### Changing optimizer to rmsprop"
   ]
  },
  {
   "cell_type": "code",
   "execution_count": 30,
   "metadata": {
    "collapsed": true
   },
   "outputs": [],
   "source": [
    "network2 = models.Sequential()\n",
    "network2.add(layers.Dense(512, activation='relu', input_shape=(28*28,)))\n",
    "network2.add(layers.Dense(10, activation='softmax'))\n",
    "network2.compile(optimizer='rmsprop', loss='categorical_crossentropy', metrics=['accuracy'])"
   ]
  },
  {
   "cell_type": "code",
   "execution_count": 32,
   "metadata": {},
   "outputs": [
    {
     "name": "stdout",
     "output_type": "stream",
     "text": [
      "Epoch 1/5\n",
      "60000/60000 [==============================] - 8s 130us/step - loss: 0.4530 - acc: 0.8754\n",
      "Epoch 2/5\n",
      "60000/60000 [==============================] - 8s 127us/step - loss: 0.1531 - acc: 0.9532\n",
      "Epoch 3/5\n",
      "60000/60000 [==============================] - 8s 126us/step - loss: 0.1118 - acc: 0.9653\n",
      "Epoch 4/5\n",
      "60000/60000 [==============================] - 8s 126us/step - loss: 0.0896 - acc: 0.9720\n",
      "Epoch 5/5\n",
      "60000/60000 [==============================] - 8s 125us/step - loss: 0.0755 - acc: 0.9757\n"
     ]
    },
    {
     "data": {
      "text/plain": [
       "<keras.callbacks.History at 0x1989b041a58>"
      ]
     },
     "execution_count": 32,
     "metadata": {},
     "output_type": "execute_result"
    }
   ],
   "source": [
    "network2.fit(X, train_labels, epochs=5, batch_size=128)"
   ]
  },
  {
   "cell_type": "code",
   "execution_count": 33,
   "metadata": {},
   "outputs": [
    {
     "name": "stdout",
     "output_type": "stream",
     "text": [
      "10000/10000 [==============================] - 1s 102us/step\n",
      "test_acc: 0.958\n"
     ]
    }
   ],
   "source": [
    "test_loss, test_acc = network2.evaluate(Xt, test_labels)\n",
    "print('test_acc:', test_acc)"
   ]
  },
  {
   "cell_type": "code",
   "execution_count": null,
   "metadata": {},
   "outputs": [],
   "source": [
    "# note: keras also includes MNIST and in an easier to use format:\n",
    "\n",
    "(train_images, train_labels), (test_images, test_labels) = mnist.load_data()\n",
    "\n",
    "train_images = train_images.reshape((60000, 28*28))\n",
    "train_images = train_images.astype('float32') / 255\n",
    "\n",
    "test_images = test_images.reshape((10000, 28*28))\n",
    "test_images = test_images.astype('float32') / 255"
   ]
  }
 ],
 "metadata": {
  "anaconda-cloud": {},
  "kernelspec": {
   "display_name": "Python [default]",
   "language": "python",
   "name": "python3"
  },
  "language_info": {
   "codemirror_mode": {
    "name": "ipython",
    "version": 3
   },
   "file_extension": ".py",
   "mimetype": "text/x-python",
   "name": "python",
   "nbconvert_exporter": "python",
   "pygments_lexer": "ipython3",
   "version": "3.5.2"
  }
 },
 "nbformat": 4,
 "nbformat_minor": 2
}
