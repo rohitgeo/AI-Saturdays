{
 "cells": [
  {
   "cell_type": "markdown",
   "metadata": {},
   "source": [
    "# Image features exercise\n",
    "*Complete and hand in this completed worksheet (including its outputs and any supporting code outside of the worksheet) with your assignment submission. For more details see the [assignments page](http://vision.stanford.edu/teaching/cs231n/assignments.html) on the course website.*\n",
    "\n",
    "We have seen that we can achieve reasonable performance on an image classification task by training a linear classifier on the pixels of the input image. In this exercise we will show that we can improve our classification performance by training linear classifiers not on raw pixels but on features that are computed from the raw pixels.\n",
    "\n",
    "All of your work for this exercise will be done in this notebook."
   ]
  },
  {
   "cell_type": "code",
   "execution_count": 1,
   "metadata": {
    "collapsed": true
   },
   "outputs": [],
   "source": [
    "import random\n",
    "import numpy as np\n",
    "from cs231n.data_utils import load_CIFAR10\n",
    "import matplotlib.pyplot as plt\n",
    "\n",
    "from __future__ import print_function\n",
    "\n",
    "%matplotlib inline\n",
    "plt.rcParams['figure.figsize'] = (10.0, 8.0) # set default size of plots\n",
    "plt.rcParams['image.interpolation'] = 'nearest'\n",
    "plt.rcParams['image.cmap'] = 'gray'\n",
    "\n",
    "# for auto-reloading extenrnal modules\n",
    "# see http://stackoverflow.com/questions/1907993/autoreload-of-modules-in-ipython\n",
    "%load_ext autoreload\n",
    "%autoreload 2"
   ]
  },
  {
   "cell_type": "markdown",
   "metadata": {},
   "source": [
    "## Load MNIST data"
   ]
  },
  {
   "cell_type": "code",
   "execution_count": 2,
   "metadata": {},
   "outputs": [
    {
     "name": "stdout",
     "output_type": "stream",
     "text": [
      "Train data shape:  (60000, 28, 28)\n",
      "Train labels shape:  (60000,)\n",
      "Validation data shape:  (10000, 28, 28)\n",
      "Validation labels shape:  (10000,)\n",
      "Test data shape:  (10000, 28, 28)\n",
      "Test labels shape:  (10000,)\n"
     ]
    }
   ],
   "source": [
    "import numpy as np\n",
    "\n",
    "from sklearn.utils import shuffle\n",
    "from sklearn.datasets import fetch_mldata\n",
    "\n",
    "mnist = fetch_mldata('MNIST original', data_home='.')\n",
    "mnist.data = mnist.data/255.0*2 - 1\n",
    "\n",
    "X_train = mnist.data[:60000]\n",
    "y_train = mnist.target[:60000].astype(np.uint8)\n",
    "\n",
    "X_val  = mnist.data[60000:]\n",
    "y_val  = mnist.target[60000:].astype(np.uint8)\n",
    "\n",
    "X_test  = mnist.data[60000:]\n",
    "y_test  = mnist.target[60000:].astype(np.uint8)\n",
    "\n",
    "X_train = X_train.reshape(X_train.shape[0], 28, 28)\n",
    "X_val = X_val.reshape(X_val.shape[0], 28, 28) \n",
    "X_test = X_test.reshape(X_test.shape[0], 28, 28) \n",
    "\n",
    "\n",
    "print('Train data shape: ', X_train.shape)\n",
    "print('Train labels shape: ', y_train.shape)\n",
    "print('Validation data shape: ', X_val.shape)\n",
    "print('Validation labels shape: ', y_val.shape)\n",
    "print('Test data shape: ', X_test.shape)\n",
    "print('Test labels shape: ', y_test.shape)"
   ]
  },
  {
   "cell_type": "markdown",
   "metadata": {},
   "source": [
    "## Extract Features\n",
    "For each image we will compute a Histogram of Oriented\n",
    "Gradients (HOG) as well as a color histogram using the hue channel in HSV\n",
    "color space. We form our final feature vector for each image by concatenating\n",
    "the HOG and color histogram feature vectors.\n",
    "\n",
    "Roughly speaking, HOG should capture the texture of the image while ignoring\n",
    "color information, and the color histogram represents the color of the input\n",
    "image while ignoring texture. As a result, we expect that using both together\n",
    "ought to work better than using either alone. Verifying this assumption would\n",
    "be a good thing to try for the bonus section.\n",
    "\n",
    "The `hog_feature` and `color_histogram_hsv` functions both operate on a single\n",
    "image and return a feature vector for that image. The extract_features\n",
    "function takes a set of images and a list of feature functions and evaluates\n",
    "each feature function on each image, storing the results in a matrix where\n",
    "each column is the concatenation of all feature vectors for a single image."
   ]
  },
  {
   "cell_type": "code",
   "execution_count": 3,
   "metadata": {},
   "outputs": [
    {
     "name": "stdout",
     "output_type": "stream",
     "text": [
      "Done extracting features for 1000 / 60000 images\n",
      "Done extracting features for 2000 / 60000 images\n",
      "Done extracting features for 3000 / 60000 images\n",
      "Done extracting features for 4000 / 60000 images\n",
      "Done extracting features for 5000 / 60000 images\n",
      "Done extracting features for 6000 / 60000 images\n",
      "Done extracting features for 7000 / 60000 images\n",
      "Done extracting features for 8000 / 60000 images\n",
      "Done extracting features for 9000 / 60000 images\n",
      "Done extracting features for 10000 / 60000 images\n",
      "Done extracting features for 11000 / 60000 images\n",
      "Done extracting features for 12000 / 60000 images\n",
      "Done extracting features for 13000 / 60000 images\n",
      "Done extracting features for 14000 / 60000 images\n",
      "Done extracting features for 15000 / 60000 images\n",
      "Done extracting features for 16000 / 60000 images\n",
      "Done extracting features for 17000 / 60000 images\n",
      "Done extracting features for 18000 / 60000 images\n",
      "Done extracting features for 19000 / 60000 images\n",
      "Done extracting features for 20000 / 60000 images\n",
      "Done extracting features for 21000 / 60000 images\n",
      "Done extracting features for 22000 / 60000 images\n",
      "Done extracting features for 23000 / 60000 images\n",
      "Done extracting features for 24000 / 60000 images\n",
      "Done extracting features for 25000 / 60000 images\n",
      "Done extracting features for 26000 / 60000 images\n",
      "Done extracting features for 27000 / 60000 images\n",
      "Done extracting features for 28000 / 60000 images\n",
      "Done extracting features for 29000 / 60000 images\n",
      "Done extracting features for 30000 / 60000 images\n",
      "Done extracting features for 31000 / 60000 images\n",
      "Done extracting features for 32000 / 60000 images\n",
      "Done extracting features for 33000 / 60000 images\n",
      "Done extracting features for 34000 / 60000 images\n",
      "Done extracting features for 35000 / 60000 images\n",
      "Done extracting features for 36000 / 60000 images\n",
      "Done extracting features for 37000 / 60000 images\n",
      "Done extracting features for 38000 / 60000 images\n",
      "Done extracting features for 39000 / 60000 images\n",
      "Done extracting features for 40000 / 60000 images\n",
      "Done extracting features for 41000 / 60000 images\n",
      "Done extracting features for 42000 / 60000 images\n",
      "Done extracting features for 43000 / 60000 images\n",
      "Done extracting features for 44000 / 60000 images\n",
      "Done extracting features for 45000 / 60000 images\n",
      "Done extracting features for 46000 / 60000 images\n",
      "Done extracting features for 47000 / 60000 images\n",
      "Done extracting features for 48000 / 60000 images\n",
      "Done extracting features for 49000 / 60000 images\n",
      "Done extracting features for 50000 / 60000 images\n",
      "Done extracting features for 51000 / 60000 images\n",
      "Done extracting features for 52000 / 60000 images\n",
      "Done extracting features for 53000 / 60000 images\n",
      "Done extracting features for 54000 / 60000 images\n",
      "Done extracting features for 55000 / 60000 images\n",
      "Done extracting features for 56000 / 60000 images\n",
      "Done extracting features for 57000 / 60000 images\n",
      "Done extracting features for 58000 / 60000 images\n",
      "Done extracting features for 59000 / 60000 images\n"
     ]
    }
   ],
   "source": [
    "from cs231n.features import *\n",
    "\n",
    "num_color_bins = 10 # Number of bins in the color histogram\n",
    "feature_fns = [hog_feature] #, lambda img: color_histogram_hsv(img, nbin=num_color_bins)]\n",
    "X_train_feats = extract_features(X_train, feature_fns, verbose=True)\n",
    "X_val_feats = extract_features(X_val, feature_fns)\n",
    "X_test_feats = extract_features(X_test, feature_fns)\n",
    "\n",
    "# Preprocessing: Subtract the mean feature\n",
    "mean_feat = np.mean(X_train_feats, axis=0, keepdims=True)\n",
    "X_train_feats -= mean_feat\n",
    "X_val_feats -= mean_feat\n",
    "X_test_feats -= mean_feat\n",
    "\n",
    "# Preprocessing: Divide by standard deviation. This ensures that each feature\n",
    "# has roughly the same scale.\n",
    "std_feat = np.std(X_train_feats, axis=0, keepdims=True)\n",
    "X_train_feats /= std_feat\n",
    "X_val_feats /= std_feat\n",
    "X_test_feats /= std_feat\n",
    "\n",
    "# Preprocessing: Add a bias dimension\n",
    "X_train_feats = np.hstack([X_train_feats, np.ones((X_train_feats.shape[0], 1))])\n",
    "X_val_feats = np.hstack([X_val_feats, np.ones((X_val_feats.shape[0], 1))])\n",
    "X_test_feats = np.hstack([X_test_feats, np.ones((X_test_feats.shape[0], 1))])"
   ]
  },
  {
   "cell_type": "markdown",
   "metadata": {},
   "source": [
    "## Neural Network on image features\n",
    "Earlier in this assigment we saw that training a two-layer neural network on raw pixels achieved better classification performance than linear classifiers on raw pixels. In this notebook we have seen that linear classifiers on image features outperform linear classifiers on raw pixels. \n",
    "\n",
    "For completeness, we should also try training a neural network on image features. This approach should outperform all previous approaches: you should easily be able to achieve over 55% classification accuracy on the test set; our best model achieves about 60% classification accuracy."
   ]
  },
  {
   "cell_type": "code",
   "execution_count": 4,
   "metadata": {},
   "outputs": [
    {
     "name": "stdout",
     "output_type": "stream",
     "text": [
      "(60000, 82)\n"
     ]
    }
   ],
   "source": [
    "print(X_train_feats.shape)"
   ]
  },
  {
   "cell_type": "code",
   "execution_count": 5,
   "metadata": {},
   "outputs": [
    {
     "name": "stdout",
     "output_type": "stream",
     "text": [
      "iteration 0 / 3000: loss 2.302585\n",
      "iteration 100 / 3000: loss 0.210294\n",
      "iteration 200 / 3000: loss 0.136146\n",
      "iteration 300 / 3000: loss 0.258663\n",
      "iteration 400 / 3000: loss 0.168198\n",
      "iteration 500 / 3000: loss 0.157242\n",
      "iteration 600 / 3000: loss 0.089668\n",
      "iteration 700 / 3000: loss 0.118887\n",
      "iteration 800 / 3000: loss 0.097347\n",
      "iteration 900 / 3000: loss 0.063540\n",
      "iteration 1000 / 3000: loss 0.074662\n",
      "iteration 1100 / 3000: loss 0.064815\n",
      "iteration 1200 / 3000: loss 0.062773\n",
      "iteration 1300 / 3000: loss 0.111336\n",
      "iteration 1400 / 3000: loss 0.100987\n",
      "iteration 1500 / 3000: loss 0.062335\n",
      "iteration 1600 / 3000: loss 0.056612\n",
      "iteration 1700 / 3000: loss 0.079014\n",
      "iteration 1800 / 3000: loss 0.028705\n",
      "iteration 1900 / 3000: loss 0.014633\n",
      "iteration 2000 / 3000: loss 0.096229\n",
      "iteration 2100 / 3000: loss 0.038555\n",
      "iteration 2200 / 3000: loss 0.040437\n",
      "iteration 2300 / 3000: loss 0.060819\n",
      "iteration 2400 / 3000: loss 0.035447\n",
      "iteration 2500 / 3000: loss 0.062738\n",
      "iteration 2600 / 3000: loss 0.059936\n",
      "iteration 2700 / 3000: loss 0.029925\n",
      "iteration 2800 / 3000: loss 0.020226\n",
      "iteration 2900 / 3000: loss 0.049541\n",
      "Validation accuracy:  0.9688\n"
     ]
    }
   ],
   "source": [
    "from cs231n.classifiers.neural_net import TwoLayerNet\n",
    "\n",
    "input_dim = X_train_feats.shape[1]\n",
    "hidden_dim = 500\n",
    "num_classes = 10\n",
    "\n",
    "net = TwoLayerNet(input_dim, hidden_dim, num_classes)\n",
    "best_net = None\n",
    "\n",
    "################################################################################\n",
    "# TODO: Train a two-layer neural network on image features. You may want to    #\n",
    "# cross-validate various parameters as in previous sections. Store your best   #\n",
    "# model in the best_net variable.                                              #\n",
    "################################################################################\n",
    "stats = net.train(X_train_feats, y_train, X_val_feats, y_val,\n",
    "            num_iters=3000, batch_size=200,\n",
    "            learning_rate=1, learning_rate_decay=0.95,\n",
    "            reg=0.0, verbose=True)\n",
    "\n",
    "\n",
    "val_acc = (net.predict(X_val_feats) == y_val).mean()\n",
    "print('Validation accuracy: ', val_acc)\n",
    "################################################################################\n",
    "#                              END OF YOUR CODE                                #\n",
    "################################################################################"
   ]
  },
  {
   "cell_type": "code",
   "execution_count": 6,
   "metadata": {},
   "outputs": [
    {
     "name": "stdout",
     "output_type": "stream",
     "text": [
      "0.9688\n"
     ]
    }
   ],
   "source": [
    "# Run your neural net classifier on the test set. You should be able to\n",
    "# get more than 55% accuracy.\n",
    "\n",
    "test_acc = (net.predict(X_test_feats) == y_test).mean()\n",
    "print(test_acc)"
   ]
  },
  {
   "cell_type": "markdown",
   "metadata": {},
   "source": [
    "# Result\n",
    "\n",
    "We get better accuracy on MNIST as well with features"
   ]
  }
 ],
 "metadata": {
  "anaconda-cloud": {},
  "kernelspec": {
   "display_name": "Python [default]",
   "language": "python",
   "name": "python3"
  },
  "language_info": {
   "codemirror_mode": {
    "name": "ipython",
    "version": 3
   },
   "file_extension": ".py",
   "mimetype": "text/x-python",
   "name": "python",
   "nbconvert_exporter": "python",
   "pygments_lexer": "ipython3",
   "version": "3.5.2"
  }
 },
 "nbformat": 4,
 "nbformat_minor": 1
}
